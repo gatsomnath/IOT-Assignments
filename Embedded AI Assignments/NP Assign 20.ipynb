{
 "cells": [
  {
   "cell_type": "code",
   "execution_count": 1,
   "id": "d84a82ca-e74b-4ebe-a1cb-e2f2017144e5",
   "metadata": {},
   "outputs": [],
   "source": [
    "#24. Write a NumPy program to get the element-wise remainder of an array of division."
   ]
  },
  {
   "cell_type": "code",
   "execution_count": 2,
   "id": "6c60fc5b-6c75-4ac5-8a08-858f00d642fd",
   "metadata": {},
   "outputs": [],
   "source": [
    "import numpy as np"
   ]
  },
  {
   "cell_type": "code",
   "execution_count": 3,
   "id": "df61a58e-0e20-4783-8bab-d4d2ae28ba1b",
   "metadata": {},
   "outputs": [],
   "source": [
    "arr = np.arange(7)"
   ]
  },
  {
   "cell_type": "code",
   "execution_count": 4,
   "id": "604b1c7f-deed-4828-bb76-30fee114ee4e",
   "metadata": {},
   "outputs": [
    {
     "name": "stdout",
     "output_type": "stream",
     "text": [
      "[0 1 2 3 4 5 6]\n"
     ]
    }
   ],
   "source": [
    "print(arr)"
   ]
  },
  {
   "cell_type": "code",
   "execution_count": 6,
   "id": "faf8334c-1eb3-4c0a-b679-68c8e2881e53",
   "metadata": {},
   "outputs": [
    {
     "name": "stdout",
     "output_type": "stream",
     "text": [
      "[0 1 2 3 4 0 1]\n"
     ]
    }
   ],
   "source": [
    "arr2 = np.remainder(arr,5)\n",
    "print(arr2)"
   ]
  },
  {
   "cell_type": "code",
   "execution_count": null,
   "id": "ae7fce98-e21d-4275-a664-a50e4a161836",
   "metadata": {},
   "outputs": [],
   "source": []
  }
 ],
 "metadata": {
  "kernelspec": {
   "display_name": "Python 3 (ipykernel)",
   "language": "python",
   "name": "python3"
  },
  "language_info": {
   "codemirror_mode": {
    "name": "ipython",
    "version": 3
   },
   "file_extension": ".py",
   "mimetype": "text/x-python",
   "name": "python",
   "nbconvert_exporter": "python",
   "pygments_lexer": "ipython3",
   "version": "3.10.12"
  }
 },
 "nbformat": 4,
 "nbformat_minor": 5
}
