{
 "cells": [
  {
   "cell_type": "code",
   "execution_count": 3,
   "id": "cd350d82-dc8b-4c88-b8c6-d482537006b0",
   "metadata": {},
   "outputs": [],
   "source": [
    "#16. Write a NumPy program to create a 3x3x3 array filled with arbitrary     values."
   ]
  },
  {
   "cell_type": "code",
   "execution_count": 4,
   "id": "073c906a-23fb-4f8c-b735-3b742dd64cac",
   "metadata": {},
   "outputs": [],
   "source": [
    "import numpy as np"
   ]
  },
  {
   "cell_type": "code",
   "execution_count": 6,
   "id": "fb1f966f-752d-401e-8455-51fe83c440f0",
   "metadata": {},
   "outputs": [],
   "source": [
    "arr = np.random.random((3,3,3))"
   ]
  },
  {
   "cell_type": "code",
   "execution_count": 7,
   "id": "ac35aa9b-f34a-41a1-9921-222d03654e28",
   "metadata": {},
   "outputs": [
    {
     "name": "stdout",
     "output_type": "stream",
     "text": [
      "[[[0.45361528 0.90373913 0.16010197]\n",
      "  [0.36781735 0.39329957 0.17613494]\n",
      "  [0.56215144 0.45082513 0.05713341]]\n",
      "\n",
      " [[0.6165536  0.24756365 0.98710021]\n",
      "  [0.3029288  0.15310485 0.41032849]\n",
      "  [0.33801611 0.40343402 0.21411772]]\n",
      "\n",
      " [[0.89872554 0.37330146 0.38990109]\n",
      "  [0.38479319 0.94217417 0.01100466]\n",
      "  [0.02034357 0.30311457 0.35625572]]]\n"
     ]
    }
   ],
   "source": [
    "print(arr)"
   ]
  },
  {
   "cell_type": "code",
   "execution_count": null,
   "id": "0da8bfb5-7593-464d-bdad-7140a31114da",
   "metadata": {},
   "outputs": [],
   "source": []
  }
 ],
 "metadata": {
  "kernelspec": {
   "display_name": "Python 3 (ipykernel)",
   "language": "python",
   "name": "python3"
  },
  "language_info": {
   "codemirror_mode": {
    "name": "ipython",
    "version": 3
   },
   "file_extension": ".py",
   "mimetype": "text/x-python",
   "name": "python",
   "nbconvert_exporter": "python",
   "pygments_lexer": "ipython3",
   "version": "3.10.12"
  }
 },
 "nbformat": 4,
 "nbformat_minor": 5
}
