{
 "cells": [
  {
   "cell_type": "code",
   "execution_count": null,
   "id": "bef9dc53-663a-4a12-8213-b62a744e5809",
   "metadata": {},
   "outputs": [],
   "source": [
    "#6. Write a NumPy program to create an array of all even integers from 20 to 80."
   ]
  },
  {
   "cell_type": "code",
   "execution_count": 1,
   "id": "4ca6cd57-6945-44d6-8fda-c52a436abe22",
   "metadata": {},
   "outputs": [],
   "source": [
    "import numpy as np"
   ]
  },
  {
   "cell_type": "code",
   "execution_count": 4,
   "id": "30eea054-ece1-49f9-9da3-34ff4bf01bf3",
   "metadata": {},
   "outputs": [
    {
     "name": "stdout",
     "output_type": "stream",
     "text": [
      "[20 22 24 26 28 30 32 34 36 38 40 42 44 46 48 50 52 54 56 58 60 62 64 66\n",
      " 68 70 72 74 76 78]\n"
     ]
    }
   ],
   "source": [
    "arr = np.arange(20,80,2)\n",
    "print(arr)"
   ]
  },
  {
   "cell_type": "code",
   "execution_count": null,
   "id": "b4c5cff0-9bf4-4600-9ecf-4060aa2766c1",
   "metadata": {},
   "outputs": [],
   "source": []
  },
  {
   "cell_type": "code",
   "execution_count": null,
   "id": "2cf130a0-3948-46ee-ae60-463ae5945517",
   "metadata": {},
   "outputs": [],
   "source": []
  }
 ],
 "metadata": {
  "kernelspec": {
   "display_name": "Python 3 (ipykernel)",
   "language": "python",
   "name": "python3"
  },
  "language_info": {
   "codemirror_mode": {
    "name": "ipython",
    "version": 3
   },
   "file_extension": ".py",
   "mimetype": "text/x-python",
   "name": "python",
   "nbconvert_exporter": "python",
   "pygments_lexer": "ipython3",
   "version": "3.10.12"
  }
 },
 "nbformat": 4,
 "nbformat_minor": 5
}
