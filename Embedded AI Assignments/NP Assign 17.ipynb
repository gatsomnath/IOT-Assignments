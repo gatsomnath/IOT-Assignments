{
 "cells": [
  {
   "cell_type": "code",
   "execution_count": 1,
   "id": "a086c2ea-5725-481f-8795-b44aa2b3388e",
   "metadata": {},
   "outputs": [],
   "source": [
    "#17. Write a NumPy program to create a 2x3x4 array filled with arbitrary     values."
   ]
  },
  {
   "cell_type": "code",
   "execution_count": 2,
   "id": "8624a569-2763-4a02-ab14-b7fb4ca042b6",
   "metadata": {},
   "outputs": [],
   "source": [
    "import numpy as np"
   ]
  },
  {
   "cell_type": "code",
   "execution_count": 3,
   "id": "dad826f5-c54c-494b-a14a-c4bb0cdb325b",
   "metadata": {},
   "outputs": [],
   "source": [
    "arr = np.random.random((2,3,4))"
   ]
  },
  {
   "cell_type": "code",
   "execution_count": 4,
   "id": "fe97612b-04da-487a-a7fd-56c2f82a427d",
   "metadata": {},
   "outputs": [
    {
     "name": "stdout",
     "output_type": "stream",
     "text": [
      "[[[0.81099231 0.03672415 0.45016166 0.5849834 ]\n",
      "  [0.50166035 0.54538803 0.16070292 0.5199328 ]\n",
      "  [0.15896715 0.45239001 0.27877672 0.83351181]]\n",
      "\n",
      " [[0.71912264 0.83358684 0.88677392 0.73070675]\n",
      "  [0.07711713 0.02626534 0.88439617 0.5531402 ]\n",
      "  [0.06089284 0.48450204 0.03834798 0.3643238 ]]]\n"
     ]
    }
   ],
   "source": [
    "print(arr)"
   ]
  },
  {
   "cell_type": "code",
   "execution_count": null,
   "id": "69e858e3-735e-41c7-b831-fcf65816585d",
   "metadata": {},
   "outputs": [],
   "source": []
  }
 ],
 "metadata": {
  "kernelspec": {
   "display_name": "Python 3 (ipykernel)",
   "language": "python",
   "name": "python3"
  },
  "language_info": {
   "codemirror_mode": {
    "name": "ipython",
    "version": 3
   },
   "file_extension": ".py",
   "mimetype": "text/x-python",
   "name": "python",
   "nbconvert_exporter": "python",
   "pygments_lexer": "ipython3",
   "version": "3.10.12"
  }
 },
 "nbformat": 4,
 "nbformat_minor": 5
}
