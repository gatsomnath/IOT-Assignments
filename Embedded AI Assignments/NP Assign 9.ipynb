{
 "cells": [
  {
   "cell_type": "code",
   "execution_count": 3,
   "id": "d382c03e-c78b-4f04-bd60-b38ad0c4c002",
   "metadata": {},
   "outputs": [],
   "source": [
    "#9. Write a NumPy program to generate an array of 10 random numbers from 30    to 50."
   ]
  },
  {
   "cell_type": "code",
   "execution_count": 4,
   "id": "8d8e6258-12ad-46fd-97c3-bb4fcc67b190",
   "metadata": {},
   "outputs": [],
   "source": [
    "import numpy as np"
   ]
  },
  {
   "cell_type": "code",
   "execution_count": 5,
   "id": "c87966e5-f69c-482a-b6e3-841608983e48",
   "metadata": {},
   "outputs": [
    {
     "name": "stdout",
     "output_type": "stream",
     "text": [
      "[38 38 45 36 35 47 35 31 42 46]\n"
     ]
    }
   ],
   "source": [
    "arr = np.random.randint(30,50,10)\n",
    "print(arr)"
   ]
  },
  {
   "cell_type": "code",
   "execution_count": null,
   "id": "04d8652b-ce28-4789-92f2-3805eefa5fd2",
   "metadata": {},
   "outputs": [],
   "source": []
  }
 ],
 "metadata": {
  "kernelspec": {
   "display_name": "Python 3 (ipykernel)",
   "language": "python",
   "name": "python3"
  },
  "language_info": {
   "codemirror_mode": {
    "name": "ipython",
    "version": 3
   },
   "file_extension": ".py",
   "mimetype": "text/x-python",
   "name": "python",
   "nbconvert_exporter": "python",
   "pygments_lexer": "ipython3",
   "version": "3.10.12"
  }
 },
 "nbformat": 4,
 "nbformat_minor": 5
}
