{
 "cells": [
  {
   "cell_type": "code",
   "execution_count": 1,
   "id": "211ad9a1-6abb-4ea5-8e1a-427ec300241e",
   "metadata": {},
   "outputs": [],
   "source": [
    "#18. Write a NumPy program to convert a list of numeric values into a one-    dimensional NumPy array."
   ]
  },
  {
   "cell_type": "code",
   "execution_count": 2,
   "id": "d24add3e-9c96-44c6-983d-2b860b874b5e",
   "metadata": {},
   "outputs": [],
   "source": [
    "import numpy as np"
   ]
  },
  {
   "cell_type": "code",
   "execution_count": 3,
   "id": "f8bf6938-0629-4f86-b8e1-2969d8ccd2ea",
   "metadata": {},
   "outputs": [],
   "source": [
    "arr = [11,22,33,44,55]"
   ]
  },
  {
   "cell_type": "code",
   "execution_count": 7,
   "id": "2ad46bef-5ef3-4e2a-ae52-b480606de6c7",
   "metadata": {},
   "outputs": [
    {
     "name": "stdout",
     "output_type": "stream",
     "text": [
      "Original List\n",
      "[11, 22, 33, 44, 55]\n"
     ]
    }
   ],
   "source": [
    "print('Original List')\n",
    "print(arr)"
   ]
  },
  {
   "cell_type": "code",
   "execution_count": 5,
   "id": "8a5ee84d-dd4c-4096-b752-703592d4d8e9",
   "metadata": {},
   "outputs": [],
   "source": [
    "arr2 = np.array(arr)"
   ]
  },
  {
   "cell_type": "code",
   "execution_count": 6,
   "id": "cb53baf9-1e82-46be-bcc1-9ed261081635",
   "metadata": {},
   "outputs": [
    {
     "name": "stdout",
     "output_type": "stream",
     "text": [
      "[11 22 33 44 55]\n"
     ]
    }
   ],
   "source": [
    "print(arr2)"
   ]
  },
  {
   "cell_type": "code",
   "execution_count": null,
   "id": "18ca208f-4775-43bb-adcf-d6a8f339db52",
   "metadata": {},
   "outputs": [],
   "source": []
  }
 ],
 "metadata": {
  "kernelspec": {
   "display_name": "Python 3 (ipykernel)",
   "language": "python",
   "name": "python3"
  },
  "language_info": {
   "codemirror_mode": {
    "name": "ipython",
    "version": 3
   },
   "file_extension": ".py",
   "mimetype": "text/x-python",
   "name": "python",
   "nbconvert_exporter": "python",
   "pygments_lexer": "ipython3",
   "version": "3.10.12"
  }
 },
 "nbformat": 4,
 "nbformat_minor": 5
}
