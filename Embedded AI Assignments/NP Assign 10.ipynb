{
 "cells": [
  {
   "cell_type": "code",
   "execution_count": 1,
   "id": "86ed457c-5bac-4d66-952a-b0f38fcf5836",
   "metadata": {},
   "outputs": [],
   "source": [
    "#10. Write a NumPy program to generate an array of 20 random numbers from 50    to 90."
   ]
  },
  {
   "cell_type": "code",
   "execution_count": 2,
   "id": "119a0440-5d0b-45fe-b28c-f9608e00599b",
   "metadata": {},
   "outputs": [],
   "source": [
    "import numpy as np"
   ]
  },
  {
   "cell_type": "code",
   "execution_count": 3,
   "id": "41f9764e-483e-402b-9bc0-842dbaf50462",
   "metadata": {},
   "outputs": [
    {
     "name": "stdout",
     "output_type": "stream",
     "text": [
      "[65 62 67 72 52 72 75 54 85 52 61 81 70 55 77 84 74 89 83 82]\n"
     ]
    }
   ],
   "source": [
    "arr = np.random.randint(50,90,20)\n",
    "print(arr)"
   ]
  },
  {
   "cell_type": "code",
   "execution_count": null,
   "id": "ee32dedb-fb10-4bf1-b40b-901058a0803b",
   "metadata": {},
   "outputs": [],
   "source": []
  }
 ],
 "metadata": {
  "kernelspec": {
   "display_name": "Python 3 (ipykernel)",
   "language": "python",
   "name": "python3"
  },
  "language_info": {
   "codemirror_mode": {
    "name": "ipython",
    "version": 3
   },
   "file_extension": ".py",
   "mimetype": "text/x-python",
   "name": "python",
   "nbconvert_exporter": "python",
   "pygments_lexer": "ipython3",
   "version": "3.10.12"
  }
 },
 "nbformat": 4,
 "nbformat_minor": 5
}
